{
 "cells": [
  {
   "cell_type": "code",
   "execution_count": 11,
   "id": "f25e2c3b-1565-41de-9cd0-122a4414ac77",
   "metadata": {},
   "outputs": [],
   "source": [
    "# Imports\n",
    "from pandas_datareader import data as pdr\n",
    "from yahoo_fin import stock_info as si\n",
    "from pandas import ExcelWriter\n",
    "import yfinance as yf\n",
    "import pandas as pd\n",
    "import datetime\n",
    "import time\n",
    "yf.pdr_override()\n",
    "from pathlib import Path\n",
    "import numpy as np"
   ]
  },
  {
   "cell_type": "code",
   "execution_count": 12,
   "id": "c094a3e7-de8c-42d8-bf7f-b1c1cc6e3192",
   "metadata": {},
   "outputs": [],
   "source": [
    "# scan a list of stocks from a csv file of Investors Business Daily recommendations\n",
    "csv_path = Path(\"Dayakar_List_3.csv\")\n",
    "ibd_df = pd.read_csv(csv_path)"
   ]
  },
  {
   "cell_type": "code",
   "execution_count": 13,
   "id": "dfa1167b-20cd-42f1-90db-255dc4f52e62",
   "metadata": {},
   "outputs": [
    {
     "data": {
      "text/html": [
       "<div>\n",
       "<style scoped>\n",
       "    .dataframe tbody tr th:only-of-type {\n",
       "        vertical-align: middle;\n",
       "    }\n",
       "\n",
       "    .dataframe tbody tr th {\n",
       "        vertical-align: top;\n",
       "    }\n",
       "\n",
       "    .dataframe thead th {\n",
       "        text-align: right;\n",
       "    }\n",
       "</style>\n",
       "<table border=\"1\" class=\"dataframe\">\n",
       "  <thead>\n",
       "    <tr style=\"text-align: right;\">\n",
       "      <th></th>\n",
       "      <th>Symbol</th>\n",
       "    </tr>\n",
       "  </thead>\n",
       "  <tbody>\n",
       "    <tr>\n",
       "      <th>29</th>\n",
       "      <td>SNOW</td>\n",
       "    </tr>\n",
       "    <tr>\n",
       "      <th>30</th>\n",
       "      <td>TEAM</td>\n",
       "    </tr>\n",
       "    <tr>\n",
       "      <th>31</th>\n",
       "      <td>TMO</td>\n",
       "    </tr>\n",
       "    <tr>\n",
       "      <th>32</th>\n",
       "      <td>ULTA</td>\n",
       "    </tr>\n",
       "    <tr>\n",
       "      <th>33</th>\n",
       "      <td>UPST</td>\n",
       "    </tr>\n",
       "  </tbody>\n",
       "</table>\n",
       "</div>"
      ],
      "text/plain": [
       "   Symbol\n",
       "29   SNOW\n",
       "30   TEAM\n",
       "31    TMO\n",
       "32   ULTA\n",
       "33   UPST"
      ]
     },
     "execution_count": 13,
     "metadata": {},
     "output_type": "execute_result"
    }
   ],
   "source": [
    "ibd_df.tail()"
   ]
  },
  {
   "cell_type": "code",
   "execution_count": 14,
   "id": "831431bc-7272-4648-a614-dd93c72e221a",
   "metadata": {},
   "outputs": [],
   "source": [
    "# Variables, tickers from the IBD list\n",
    "#tickers = si.tickers_sp500()\n",
    "tickers = ibd_df[\"Symbol\"]\n",
    "tickers = [item.replace(\".\", \"-\") for item in tickers] # Yahoo Finance uses dashes instead of dots\n",
    "index_name = 'IBD' # S&P 500\n",
    "exportList = pd.DataFrame(columns=['Stock', \"RS_Rating\", \"50 Day MA\", \"150 Day Ma\", \"200 Day MA\", \"52 Week Low\", \"52 week High\"])\n",
    "returns_multiples = []"
   ]
  },
  {
   "cell_type": "code",
   "execution_count": 15,
   "id": "2ac02a6e-8d46-4111-b020-6856cf194c85",
   "metadata": {},
   "outputs": [],
   "source": [
    "# Variables, tickers from the IBD list\n",
    "#tickers = si.tickers_sp500()\n",
    "tickers = ibd_df[\"Symbol\"]\n",
    "tickers = [item.replace(\".\", \"-\") for item in tickers] # Yahoo Finance uses dashes instead of dots\n",
    "index_name = 'IBD' # S&P 500\n",
    "exportList = pd.DataFrame(columns=['Stock', \"RS_Rating\", \"50 Day MA\", \"150 Day Ma\", \"200 Day MA\", \"52 Week Low\", \"52 week High\"])\n",
    "returns_multiples = []"
   ]
  },
  {
   "cell_type": "code",
   "execution_count": 26,
   "id": "4a0afec6-210c-4651-9203-38607dc48718",
   "metadata": {
    "scrolled": true,
    "tags": []
   },
   "outputs": [
    {
     "ename": "IndexError",
     "evalue": "list index out of range",
     "output_type": "error",
     "traceback": [
      "\u001b[1;31m---------------------------------------------------------------------------\u001b[0m",
      "\u001b[1;31mIndexError\u001b[0m                                Traceback (most recent call last)",
      "\u001b[1;32m<ipython-input-26-48b7b120e225>\u001b[0m in \u001b[0;36m<module>\u001b[1;34m\u001b[0m\n\u001b[0;32m      4\u001b[0m \u001b[1;32mwith\u001b[0m \u001b[0mopen\u001b[0m\u001b[1;33m(\u001b[0m\u001b[0mfile_path_d\u001b[0m\u001b[1;33m,\u001b[0m \u001b[1;34m\"w\"\u001b[0m\u001b[1;33m)\u001b[0m \u001b[1;32mas\u001b[0m \u001b[0mo\u001b[0m\u001b[1;33m:\u001b[0m\u001b[1;33m\u001b[0m\u001b[1;33m\u001b[0m\u001b[0m\n\u001b[0;32m      5\u001b[0m     \u001b[1;32mfor\u001b[0m \u001b[0mticker\u001b[0m \u001b[1;32min\u001b[0m \u001b[0mtickers\u001b[0m\u001b[1;33m:\u001b[0m\u001b[1;33m\u001b[0m\u001b[1;33m\u001b[0m\u001b[0m\n\u001b[1;32m----> 6\u001b[1;33m         \u001b[0mearnings_dates\u001b[0m \u001b[1;33m=\u001b[0m \u001b[0msi\u001b[0m\u001b[1;33m.\u001b[0m\u001b[0mget_next_earnings_date\u001b[0m\u001b[1;33m(\u001b[0m\u001b[0mticker\u001b[0m\u001b[1;33m)\u001b[0m\u001b[1;33m\u001b[0m\u001b[1;33m\u001b[0m\u001b[0m\n\u001b[0m\u001b[0;32m      7\u001b[0m         \u001b[1;32mwith\u001b[0m \u001b[0mcontextlib\u001b[0m\u001b[1;33m.\u001b[0m\u001b[0mredirect_stdout\u001b[0m\u001b[1;33m(\u001b[0m\u001b[0mo\u001b[0m\u001b[1;33m)\u001b[0m\u001b[1;33m:\u001b[0m\u001b[1;33m\u001b[0m\u001b[1;33m\u001b[0m\u001b[0m\n\u001b[0;32m      8\u001b[0m             \u001b[0mprint\u001b[0m \u001b[1;33m(\u001b[0m\u001b[1;34mf'The next earnings date for {ticker} is {earnings_dates}'\u001b[0m\u001b[1;33m)\u001b[0m\u001b[1;33m\u001b[0m\u001b[1;33m\u001b[0m\u001b[0m\n",
      "\u001b[1;32m~\\anaconda3\\lib\\site-packages\\yahoo_fin\\stock_info.py\u001b[0m in \u001b[0;36mget_next_earnings_date\u001b[1;34m(ticker)\u001b[0m\n\u001b[0;32m    821\u001b[0m     \u001b[0mparsed_result\u001b[0m \u001b[1;33m=\u001b[0m \u001b[0m_parse_earnings_json\u001b[0m\u001b[1;33m(\u001b[0m\u001b[0mnew_url\u001b[0m\u001b[1;33m)\u001b[0m\u001b[1;33m\u001b[0m\u001b[1;33m\u001b[0m\u001b[0m\n\u001b[0;32m    822\u001b[0m \u001b[1;33m\u001b[0m\u001b[0m\n\u001b[1;32m--> 823\u001b[1;33m     \u001b[0mtemp\u001b[0m \u001b[1;33m=\u001b[0m \u001b[0mparsed_result\u001b[0m\u001b[1;33m[\u001b[0m\u001b[1;34m'context'\u001b[0m\u001b[1;33m]\u001b[0m\u001b[1;33m[\u001b[0m\u001b[1;34m'dispatcher'\u001b[0m\u001b[1;33m]\u001b[0m\u001b[1;33m[\u001b[0m\u001b[1;34m'stores'\u001b[0m\u001b[1;33m]\u001b[0m\u001b[1;33m[\u001b[0m\u001b[1;34m'QuoteSummaryStore'\u001b[0m\u001b[1;33m]\u001b[0m\u001b[1;33m[\u001b[0m\u001b[1;34m'calendarEvents'\u001b[0m\u001b[1;33m]\u001b[0m\u001b[1;33m[\u001b[0m\u001b[1;34m'earnings'\u001b[0m\u001b[1;33m]\u001b[0m\u001b[1;33m[\u001b[0m\u001b[1;34m'earningsDate'\u001b[0m\u001b[1;33m]\u001b[0m\u001b[1;33m[\u001b[0m\u001b[1;36m0\u001b[0m\u001b[1;33m]\u001b[0m\u001b[1;33m[\u001b[0m\u001b[1;34m'raw'\u001b[0m\u001b[1;33m]\u001b[0m\u001b[1;33m\u001b[0m\u001b[1;33m\u001b[0m\u001b[0m\n\u001b[0m\u001b[0;32m    824\u001b[0m \u001b[1;33m\u001b[0m\u001b[0m\n\u001b[0;32m    825\u001b[0m     \u001b[1;32mreturn\u001b[0m \u001b[0mdatetime\u001b[0m\u001b[1;33m.\u001b[0m\u001b[0mdatetime\u001b[0m\u001b[1;33m.\u001b[0m\u001b[0mfromtimestamp\u001b[0m\u001b[1;33m(\u001b[0m\u001b[0mtemp\u001b[0m\u001b[1;33m)\u001b[0m\u001b[1;33m\u001b[0m\u001b[1;33m\u001b[0m\u001b[0m\n",
      "\u001b[1;31mIndexError\u001b[0m: list index out of range"
     ]
    }
   ],
   "source": [
    "import yahoo_fin.stock_info as si\n",
    "import contextlib\n",
    "file_path_d = f'earnings_scan_Dayakar.txt'\n",
    "with open(file_path_d, \"w\") as o:\n",
    "    for ticker in tickers:\n",
    "        earnings_dates = si.get_next_earnings_date(ticker)\n",
    "        with contextlib.redirect_stdout(o):\n",
    "            print (f'The next earnings date for {ticker} is {earnings_dates}')\n",
    "        time.sleep(1)"
   ]
  },
  {
   "cell_type": "code",
   "execution_count": 22,
   "id": "3c0d0035-b161-4e9a-a8db-d9577a96324f",
   "metadata": {},
   "outputs": [
    {
     "data": {
      "text/plain": [
       "(221, b'2.0.0 closing connection z15sm8962690pfh.201 - gsmtp')"
      ]
     },
     "execution_count": 22,
     "metadata": {},
     "output_type": "execute_result"
    }
   ],
   "source": [
    "# Python code to illustrate Sending mail with attachments \n",
    "# from your Gmail account  \n",
    "  \n",
    "# libraries to be imported \n",
    "import smtplib \n",
    "from email.mime.multipart import MIMEMultipart \n",
    "from email.mime.text import MIMEText \n",
    "from email.mime.base import MIMEBase \n",
    "from email import encoders \n",
    "   \n",
    "fromaddr = \"akkrishn1@gmail.com\"\n",
    "toaddr = \"dayakar1471@gmail.com\"\n",
    "   \n",
    "# instance of MIMEMultipart \n",
    "msg = MIMEMultipart() \n",
    "  \n",
    "# storing the senders email address   \n",
    "msg['From'] = fromaddr \n",
    "  \n",
    "# storing the receivers email address  \n",
    "msg['To'] = toaddr \n",
    "  \n",
    "# storing the subject  \n",
    "msg['Subject'] = f\"Scan output earnings dates\"\n",
    "  \n",
    "# string to store the body of the mail \n",
    "body = f\"Here is the earnings scan for your list.  Looks like the problem is fixed.\"\n",
    "  \n",
    "# attach the body with the msg instance \n",
    "msg.attach(MIMEText(body, 'plain')) \n",
    "  \n",
    "# open the file to be sent  \n",
    "filename = f\"earnings_scan_Dayakar.txt\"\n",
    "attachment = open(f\"C:/Users/akkrishn/SqueezeMeBabyOneMoreTime/Earnings Scan/earnings_scan_Dayakar.txt\", \"rb\") \n",
    "  \n",
    "# instance of MIMEBase and named as p \n",
    "p = MIMEBase('application', 'octet-stream') \n",
    "  \n",
    "# To change the payload into encoded form \n",
    "p.set_payload((attachment).read()) \n",
    "  \n",
    "# encode into base64 \n",
    "encoders.encode_base64(p) \n",
    "   \n",
    "p.add_header('Content-Disposition', \"attachment; filename= %s\" % filename) \n",
    "  \n",
    "# attach the instance 'p' to instance 'msg' \n",
    "msg.attach(p) \n",
    "  \n",
    "# creates SMTP session \n",
    "s = smtplib.SMTP('smtp.gmail.com', 587) \n",
    "  \n",
    "# start TLS for security \n",
    "s.starttls() \n",
    "  \n",
    "# Authentication \n",
    "s.login(fromaddr, \"Kr15hn40709\") \n",
    "  \n",
    "# Converts the Multipart msg into a string \n",
    "text = msg.as_string() \n",
    "  \n",
    "# sending the mail \n",
    "s.sendmail(fromaddr, toaddr, text) \n",
    "  \n",
    "# terminating the session \n",
    "s.quit() "
   ]
  },
  {
   "cell_type": "code",
   "execution_count": 23,
   "id": "c9db7c2f-cec2-45fc-877d-e5e35fe4c518",
   "metadata": {
    "scrolled": true,
    "tags": []
   },
   "outputs": [],
   "source": [
    "import yahoo_fin.stock_info as si\n",
    "import contextlib\n",
    "file_path_f = f'Dayakar_List_stats.txt'\n",
    "with open(file_path_f, \"w\") as o:\n",
    "    for ticker in tickers:\n",
    "        valuation = si.get_stats_valuation(ticker, headers={'User-agent': 'Mozilla/5.0'})\n",
    "        stats = si.get_stats(ticker, headers={'User-agent': 'Mozilla/5.0'})\n",
    "        insiders = stats['Value'][12]\n",
    "        institutions = stats['Value'][13]\n",
    "        percent_short = stats['Value'][16]\n",
    "        shares_short = stats['Value'][18]\n",
    "        beta = stats['Value'][0]\n",
    "        \n",
    "        with contextlib.redirect_stdout(o):\n",
    "            print(f'Ticker: {ticker}, Insider ownership: {insiders}, institutions: {institutions}, percent short: {percent_short}, shares short: {shares_short}, beta: {beta}')\n",
    "        time.sleep(1)"
   ]
  },
  {
   "cell_type": "code",
   "execution_count": 24,
   "id": "ea9ebe30-b50f-4ca9-89fd-650e0204d8fb",
   "metadata": {},
   "outputs": [
    {
     "data": {
      "text/plain": [
       "(221, b'2.0.0 closing connection s40sm7289749pfg.144 - gsmtp')"
      ]
     },
     "execution_count": 24,
     "metadata": {},
     "output_type": "execute_result"
    }
   ],
   "source": [
    "# Python code to illustrate Sending mail with attachments \n",
    "# from your Gmail account  \n",
    "  \n",
    "# libraries to be imported \n",
    "import smtplib \n",
    "from email.mime.multipart import MIMEMultipart \n",
    "from email.mime.text import MIMEText \n",
    "from email.mime.base import MIMEBase \n",
    "from email import encoders \n",
    "   \n",
    "fromaddr = \"akkrishn1@gmail.com\"\n",
    "toaddr = \"dayakar1471@gmail.com\"\n",
    "   \n",
    "# instance of MIMEMultipart \n",
    "msg = MIMEMultipart() \n",
    "  \n",
    "# storing the senders email address   \n",
    "msg['From'] = fromaddr \n",
    "  \n",
    "# storing the receivers email address  \n",
    "msg['To'] = toaddr \n",
    "  \n",
    "# storing the subject  \n",
    "msg['Subject'] = f\"Scan output company stats\"\n",
    "  \n",
    "# string to store the body of the mail \n",
    "body = f\"Here is the statistics scan for your list.\"\n",
    "  \n",
    "# attach the body with the msg instance \n",
    "msg.attach(MIMEText(body, 'plain')) \n",
    "  \n",
    "# open the file to be sent  \n",
    "filename = f\"earnings_scan_Dayakar.txt\"\n",
    "attachment = open(f\"C:/Users/akkrishn/SqueezeMeBabyOneMoreTime/Earnings Scan/earnings_scan_Dayakar.txt\", \"rb\") \n",
    "  \n",
    "# instance of MIMEBase and named as p \n",
    "p = MIMEBase('application', 'octet-stream') \n",
    "  \n",
    "# To change the payload into encoded form \n",
    "p.set_payload((attachment).read()) \n",
    "  \n",
    "# encode into base64 \n",
    "encoders.encode_base64(p) \n",
    "   \n",
    "p.add_header('Content-Disposition', \"attachment; filename= %s\" % filename) \n",
    "  \n",
    "# attach the instance 'p' to instance 'msg' \n",
    "msg.attach(p) \n",
    "  \n",
    "# creates SMTP session \n",
    "s = smtplib.SMTP('smtp.gmail.com', 587) \n",
    "  \n",
    "# start TLS for security \n",
    "s.starttls() \n",
    "  \n",
    "# Authentication \n",
    "s.login(fromaddr, \"Kr15hn40709\") \n",
    "  \n",
    "# Converts the Multipart msg into a string \n",
    "text = msg.as_string() \n",
    "  \n",
    "# sending the mail \n",
    "s.sendmail(fromaddr, toaddr, text) \n",
    "  \n",
    "# terminating the session \n",
    "s.quit() "
   ]
  },
  {
   "cell_type": "code",
   "execution_count": null,
   "id": "e04bd6f5-5e3d-489a-836b-e52c7e9aca5a",
   "metadata": {},
   "outputs": [],
   "source": []
  }
 ],
 "metadata": {
  "kernelspec": {
   "display_name": "Python 3",
   "language": "python",
   "name": "python3"
  },
  "language_info": {
   "codemirror_mode": {
    "name": "ipython",
    "version": 3
   },
   "file_extension": ".py",
   "mimetype": "text/x-python",
   "name": "python",
   "nbconvert_exporter": "python",
   "pygments_lexer": "ipython3",
   "version": "3.8.8"
  }
 },
 "nbformat": 4,
 "nbformat_minor": 5
}
